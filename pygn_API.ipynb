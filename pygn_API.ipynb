{
 "cells": [
  {
   "cell_type": "code",
   "execution_count": 1,
   "metadata": {
    "collapsed": true
   },
   "outputs": [],
   "source": [
    "# Dependencies\n",
    "import pygn # pygn file is obtained from Ching-Wei Chen. Github link: https://github.com/cweichen/pygn\n",
    "import pandas as pd"
   ]
  },
  {
   "cell_type": "code",
   "execution_count": 2,
   "metadata": {
    "collapsed": true
   },
   "outputs": [],
   "source": [
    "# API key\n",
    "clientID = '1202705414-CE1EC048471B87E8DD56FEBB390C27B6'\n",
    "userID = pygn.register(clientID)"
   ]
  },
  {
   "cell_type": "code",
   "execution_count": 3,
   "metadata": {
    "collapsed": false
   },
   "outputs": [
    {
     "data": {
      "text/html": [
       "<div>\n",
       "<table border=\"1\" class=\"dataframe\">\n",
       "  <thead>\n",
       "    <tr style=\"text-align: right;\">\n",
       "      <th></th>\n",
       "      <th>Unnamed: 0</th>\n",
       "      <th>Unnamed: 0.1</th>\n",
       "      <th>Artist</th>\n",
       "      <th>Title</th>\n",
       "      <th>Weeks</th>\n",
       "    </tr>\n",
       "  </thead>\n",
       "  <tbody>\n",
       "    <tr>\n",
       "      <th>0</th>\n",
       "      <td>0</td>\n",
       "      <td>0</td>\n",
       "      <td>Post Malone Featuring 21 Savage</td>\n",
       "      <td>Rockstar</td>\n",
       "      <td>8</td>\n",
       "    </tr>\n",
       "    <tr>\n",
       "      <th>1</th>\n",
       "      <td>1</td>\n",
       "      <td>1</td>\n",
       "      <td>Camila Cabello Featuring Young Thug</td>\n",
       "      <td>Havana</td>\n",
       "      <td>13</td>\n",
       "    </tr>\n",
       "    <tr>\n",
       "      <th>2</th>\n",
       "      <td>2</td>\n",
       "      <td>2</td>\n",
       "      <td>Cardi B</td>\n",
       "      <td>Bodak Yellow (Money Moves)</td>\n",
       "      <td>19</td>\n",
       "    </tr>\n",
       "    <tr>\n",
       "      <th>3</th>\n",
       "      <td>3</td>\n",
       "      <td>3</td>\n",
       "      <td>Logic Featuring Alessia Cara &amp; Khalid</td>\n",
       "      <td>1-800-273-8255</td>\n",
       "      <td>28</td>\n",
       "    </tr>\n",
       "    <tr>\n",
       "      <th>4</th>\n",
       "      <td>4</td>\n",
       "      <td>4</td>\n",
       "      <td>Imagine Dragons</td>\n",
       "      <td>Thunder</td>\n",
       "      <td>28</td>\n",
       "    </tr>\n",
       "  </tbody>\n",
       "</table>\n",
       "</div>"
      ],
      "text/plain": [
       "   Unnamed: 0  Unnamed: 0.1                                 Artist  \\\n",
       "0           0             0        Post Malone Featuring 21 Savage   \n",
       "1           1             1    Camila Cabello Featuring Young Thug   \n",
       "2           2             2                                Cardi B   \n",
       "3           3             3  Logic Featuring Alessia Cara & Khalid   \n",
       "4           4             4                        Imagine Dragons   \n",
       "\n",
       "                        Title  Weeks  \n",
       "0                    Rockstar      8  \n",
       "1                      Havana     13  \n",
       "2  Bodak Yellow (Money Moves)     19  \n",
       "3              1-800-273-8255     28  \n",
       "4                     Thunder     28  "
      ]
     },
     "execution_count": 3,
     "metadata": {},
     "output_type": "execute_result"
    }
   ],
   "source": [
    "songs_df = pd.read_csv('./csv/billboards_cleaned.csv')\n",
    "songs_df.head()"
   ]
  },
  {
   "cell_type": "code",
   "execution_count": 4,
   "metadata": {
    "collapsed": false
   },
   "outputs": [],
   "source": [
    "genres = []\n",
    "moods = []\n",
    "tempos = []\n",
    "for i in range(0,len(songs_df)):\n",
    "    metadata = pygn.search(clientID=clientID, userID=userID, artist=songs_df['Artist'][i], track=songs_df['Title'][i])\n",
    "    genre = []\n",
    "    mood = []\n",
    "    tempo = []\n",
    "    for j in range(0,len(metadata['genre'])):\n",
    "        if j==0:\n",
    "            genre.append(metadata['genre'][str(j + 1)]['TEXT'])\n",
    "    for k in range(0,len(metadata['mood'])):\n",
    "        if k==0:\n",
    "            mood.append(metadata['mood'][str(k + 1)]['TEXT'])\n",
    "    for l in range(0,len(metadata['tempo'])):\n",
    "        if l==0:\n",
    "            tempo.append(metadata['tempo'][str(l + 1)]['TEXT'])\n",
    "    genres.append(genre)\n",
    "    moods.append(mood)\n",
    "    tempos.append(tempo)"
   ]
  },
  {
   "cell_type": "code",
   "execution_count": 5,
   "metadata": {
    "collapsed": false
   },
   "outputs": [
    {
     "data": {
      "text/html": [
       "<div>\n",
       "<table border=\"1\" class=\"dataframe\">\n",
       "  <thead>\n",
       "    <tr style=\"text-align: right;\">\n",
       "      <th></th>\n",
       "      <th>Genre</th>\n",
       "      <th>Mood</th>\n",
       "      <th>Tempo</th>\n",
       "    </tr>\n",
       "  </thead>\n",
       "  <tbody>\n",
       "    <tr>\n",
       "      <th>0</th>\n",
       "      <td>[Urban]</td>\n",
       "      <td>[Sensual]</td>\n",
       "      <td>[Slow Tempo]</td>\n",
       "    </tr>\n",
       "    <tr>\n",
       "      <th>1</th>\n",
       "      <td>[Urban]</td>\n",
       "      <td>[Cool]</td>\n",
       "      <td>[Medium Tempo]</td>\n",
       "    </tr>\n",
       "    <tr>\n",
       "      <th>2</th>\n",
       "      <td>[Urban]</td>\n",
       "      <td>[Defiant]</td>\n",
       "      <td>[Medium Tempo]</td>\n",
       "    </tr>\n",
       "    <tr>\n",
       "      <th>3</th>\n",
       "      <td>[Urban]</td>\n",
       "      <td>[Sophisticated]</td>\n",
       "      <td>[Medium Tempo]</td>\n",
       "    </tr>\n",
       "    <tr>\n",
       "      <th>4</th>\n",
       "      <td>[Alternative &amp; Punk]</td>\n",
       "      <td>[]</td>\n",
       "      <td>[]</td>\n",
       "    </tr>\n",
       "  </tbody>\n",
       "</table>\n",
       "</div>"
      ],
      "text/plain": [
       "                  Genre             Mood           Tempo\n",
       "0               [Urban]        [Sensual]    [Slow Tempo]\n",
       "1               [Urban]           [Cool]  [Medium Tempo]\n",
       "2               [Urban]        [Defiant]  [Medium Tempo]\n",
       "3               [Urban]  [Sophisticated]  [Medium Tempo]\n",
       "4  [Alternative & Punk]               []              []"
      ]
     },
     "execution_count": 5,
     "metadata": {},
     "output_type": "execute_result"
    }
   ],
   "source": [
    "songs_info_df = pd.DataFrame({'Genre': genres,\n",
    "                             'Mood': moods,\n",
    "                             'Tempo': tempos})\n",
    "songs_info_df.head()"
   ]
  },
  {
   "cell_type": "code",
   "execution_count": 7,
   "metadata": {
    "collapsed": true
   },
   "outputs": [],
   "source": [
    "songs_info_df.to_csv('./csv/songs_info.csv')"
   ]
  },
  {
   "cell_type": "code",
   "execution_count": null,
   "metadata": {
    "collapsed": true
   },
   "outputs": [],
   "source": []
  }
 ],
 "metadata": {
  "kernelspec": {
   "display_name": "Python 3",
   "language": "python",
   "name": "python3"
  },
  "language_info": {
   "codemirror_mode": {
    "name": "ipython",
    "version": 3
   },
   "file_extension": ".py",
   "mimetype": "text/x-python",
   "name": "python",
   "nbconvert_exporter": "python",
   "pygments_lexer": "ipython3",
   "version": "3.6.0"
  }
 },
 "nbformat": 4,
 "nbformat_minor": 2
}
