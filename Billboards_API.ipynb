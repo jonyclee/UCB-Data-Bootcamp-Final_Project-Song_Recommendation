{
 "cells": [
  {
   "cell_type": "code",
   "execution_count": 10,
   "metadata": {
    "collapsed": true
   },
   "outputs": [],
   "source": [
    "# Import Dependencies\n",
    "import billboard\n",
    "import pandas as pd"
   ]
  },
  {
   "cell_type": "code",
   "execution_count": 13,
   "metadata": {
    "collapsed": true
   },
   "outputs": [],
   "source": [
    "# List of Years\n",
    "years = ['2017-11-14','2016-12-31','2015-12-31','2014-12-31']"
   ]
  },
  {
   "cell_type": "code",
   "execution_count": 14,
   "metadata": {
    "collapsed": false
   },
   "outputs": [],
   "source": [
    "# Grab the data by year\n",
    "titles = []\n",
    "artists = []\n",
    "weeks = []\n",
    "\n",
    "for i in years:\n",
    "    chart = billboard.ChartData('hot-100',date=i)\n",
    "    for j in range(0,len(chart)):\n",
    "        song = chart[j]\n",
    "        titles.append(song.title)\n",
    "        artists.append(song.artist)\n",
    "        weeks.append(song.weeks)"
   ]
  },
  {
   "cell_type": "code",
   "execution_count": 15,
   "metadata": {
    "collapsed": false
   },
   "outputs": [
    {
     "data": {
      "text/html": [
       "<div>\n",
       "<table border=\"1\" class=\"dataframe\">\n",
       "  <thead>\n",
       "    <tr style=\"text-align: right;\">\n",
       "      <th></th>\n",
       "      <th>Artist</th>\n",
       "      <th>Title</th>\n",
       "      <th>Weeks</th>\n",
       "    </tr>\n",
       "  </thead>\n",
       "  <tbody>\n",
       "    <tr>\n",
       "      <th>0</th>\n",
       "      <td>Post Malone Featuring 21 Savage</td>\n",
       "      <td>Rockstar</td>\n",
       "      <td>8</td>\n",
       "    </tr>\n",
       "    <tr>\n",
       "      <th>1</th>\n",
       "      <td>Camila Cabello Featuring Young Thug</td>\n",
       "      <td>Havana</td>\n",
       "      <td>13</td>\n",
       "    </tr>\n",
       "    <tr>\n",
       "      <th>2</th>\n",
       "      <td>Cardi B</td>\n",
       "      <td>Bodak Yellow (Money Moves)</td>\n",
       "      <td>19</td>\n",
       "    </tr>\n",
       "    <tr>\n",
       "      <th>3</th>\n",
       "      <td>Logic Featuring Alessia Cara &amp; Khalid</td>\n",
       "      <td>1-800-273-8255</td>\n",
       "      <td>28</td>\n",
       "    </tr>\n",
       "    <tr>\n",
       "      <th>4</th>\n",
       "      <td>Imagine Dragons</td>\n",
       "      <td>Thunder</td>\n",
       "      <td>28</td>\n",
       "    </tr>\n",
       "  </tbody>\n",
       "</table>\n",
       "</div>"
      ],
      "text/plain": [
       "                                  Artist                       Title  Weeks\n",
       "0        Post Malone Featuring 21 Savage                    Rockstar      8\n",
       "1    Camila Cabello Featuring Young Thug                      Havana     13\n",
       "2                                Cardi B  Bodak Yellow (Money Moves)     19\n",
       "3  Logic Featuring Alessia Cara & Khalid              1-800-273-8255     28\n",
       "4                        Imagine Dragons                     Thunder     28"
      ]
     },
     "execution_count": 15,
     "metadata": {},
     "output_type": "execute_result"
    }
   ],
   "source": [
    "# Saves the list of top songs into a dataframe\n",
    "df = pd.DataFrame({'Title': titles,\n",
    "                  'Artist': artists,\n",
    "                  'Weeks': weeks})\n",
    "df.head()"
   ]
  },
  {
   "cell_type": "code",
   "execution_count": 16,
   "metadata": {
    "collapsed": true
   },
   "outputs": [],
   "source": [
    "# Export dataframe to csv\n",
    "df.to_csv('./csv/billboards.csv')"
   ]
  },
  {
   "cell_type": "code",
   "execution_count": null,
   "metadata": {
    "collapsed": true
   },
   "outputs": [],
   "source": []
  }
 ],
 "metadata": {
  "kernelspec": {
   "display_name": "Python 3",
   "language": "python",
   "name": "python3"
  },
  "language_info": {
   "codemirror_mode": {
    "name": "ipython",
    "version": 3
   },
   "file_extension": ".py",
   "mimetype": "text/x-python",
   "name": "python",
   "nbconvert_exporter": "python",
   "pygments_lexer": "ipython3",
   "version": "3.6.0"
  }
 },
 "nbformat": 4,
 "nbformat_minor": 2
}
