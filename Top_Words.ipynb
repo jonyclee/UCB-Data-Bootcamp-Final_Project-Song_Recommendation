{
 "cells": [
  {
   "cell_type": "code",
   "execution_count": 1,
   "metadata": {
    "collapsed": true
   },
   "outputs": [],
   "source": [
    "# Dependencies\n",
    "import re\n",
    "import string\n",
    "import pandas as pd\n",
    "from operator import itemgetter\n",
    "from stop_words import get_stop_words"
   ]
  },
  {
   "cell_type": "code",
   "execution_count": 2,
   "metadata": {
    "collapsed": false
   },
   "outputs": [
    {
     "data": {
      "text/html": [
       "<div>\n",
       "<table border=\"1\" class=\"dataframe\">\n",
       "  <thead>\n",
       "    <tr style=\"text-align: right;\">\n",
       "      <th></th>\n",
       "      <th>Unnamed: 0</th>\n",
       "      <th>Lyric</th>\n",
       "    </tr>\n",
       "  </thead>\n",
       "  <tbody>\n",
       "    <tr>\n",
       "      <th>0</th>\n",
       "      <td>0</td>\n",
       "      <td>Ay, I've been fuckin' hoes and poppin' pillies...</td>\n",
       "    </tr>\n",
       "    <tr>\n",
       "      <th>1</th>\n",
       "      <td>1</td>\n",
       "      <td>Hey\\n\\nHavana, ooh na-na (ay)\\nHalf of my hear...</td>\n",
       "    </tr>\n",
       "    <tr>\n",
       "      <th>2</th>\n",
       "      <td>2</td>\n",
       "      <td>KSR (ooh)\\nHah, it's Cardi, ay\\nSaid, \"I'm the...</td>\n",
       "    </tr>\n",
       "    <tr>\n",
       "      <th>3</th>\n",
       "      <td>3</td>\n",
       "      <td>I've been on the low\\nI been taking my time\\nI...</td>\n",
       "    </tr>\n",
       "    <tr>\n",
       "      <th>4</th>\n",
       "      <td>4</td>\n",
       "      <td>Just a young gun with a quick fuse\\nI was upti...</td>\n",
       "    </tr>\n",
       "  </tbody>\n",
       "</table>\n",
       "</div>"
      ],
      "text/plain": [
       "   Unnamed: 0                                              Lyric\n",
       "0           0  Ay, I've been fuckin' hoes and poppin' pillies...\n",
       "1           1  Hey\\n\\nHavana, ooh na-na (ay)\\nHalf of my hear...\n",
       "2           2  KSR (ooh)\\nHah, it's Cardi, ay\\nSaid, \"I'm the...\n",
       "3           3  I've been on the low\\nI been taking my time\\nI...\n",
       "4           4  Just a young gun with a quick fuse\\nI was upti..."
      ]
     },
     "execution_count": 2,
     "metadata": {},
     "output_type": "execute_result"
    }
   ],
   "source": [
    "# Read csv\n",
    "lyrics_df = pd.read_csv('./csv/lyrics.csv')\n",
    "lyrics_df.head()"
   ]
  },
  {
   "cell_type": "code",
   "execution_count": 3,
   "metadata": {
    "collapsed": true
   },
   "outputs": [],
   "source": [
    "# Create empty list\n",
    "top_three_list = []"
   ]
  },
  {
   "cell_type": "code",
   "execution_count": 4,
   "metadata": {
    "collapsed": true
   },
   "outputs": [],
   "source": [
    "# Save list of stop words\n",
    "stop_words = get_stop_words('english')"
   ]
  },
  {
   "cell_type": "code",
   "execution_count": 5,
   "metadata": {
    "collapsed": false
   },
   "outputs": [],
   "source": [
    "# Find the top 3 words in lyrics\n",
    "for i in range(0,len(lyrics_df['Lyric'])):\n",
    "    frequency = {}\n",
    "    top_three_temp = []\n",
    "    text = lyrics_df['Lyric'][i]\n",
    "    text_string = text.lower()\n",
    "    match_pattern = re.findall(r'\\b[a-z]{3,15}\\b', text_string)\n",
    "    lists = []\n",
    "    for j in range(0,len(match_pattern)):\n",
    "        if match_pattern[j] not in stop_words:\n",
    "            lists.append(match_pattern[j])\n",
    "    for word in lists:\n",
    "        count = frequency.get(word,0)\n",
    "        frequency[word] = count + 1\n",
    "    top_words = sorted(frequency.items(), key=itemgetter(1))[-3:]\n",
    "    top_three_temp = top_words[::-1]\n",
    "    top_three_list.append(top_three_temp)"
   ]
  },
  {
   "cell_type": "code",
   "execution_count": 6,
   "metadata": {
    "collapsed": false
   },
   "outputs": [
    {
     "data": {
      "text/html": [
       "<div>\n",
       "<table border=\"1\" class=\"dataframe\">\n",
       "  <thead>\n",
       "    <tr style=\"text-align: right;\">\n",
       "      <th></th>\n",
       "      <th>Top_Three_Words</th>\n",
       "    </tr>\n",
       "  </thead>\n",
       "  <tbody>\n",
       "    <tr>\n",
       "      <th>0</th>\n",
       "      <td>[(like, 15), (rockstar, 13), (yeah, 8)]</td>\n",
       "    </tr>\n",
       "    <tr>\n",
       "      <th>1</th>\n",
       "      <td>[(ooh, 29), (havana, 21), (back, 19)]</td>\n",
       "    </tr>\n",
       "    <tr>\n",
       "      <th>2</th>\n",
       "      <td>[(ooh, 26), (don, 22), (just, 9)]</td>\n",
       "    </tr>\n",
       "    <tr>\n",
       "      <th>3</th>\n",
       "      <td>[(wanna, 22), (don, 19), (alive, 13)]</td>\n",
       "    </tr>\n",
       "    <tr>\n",
       "      <th>4</th>\n",
       "      <td>[(thunder, 79), (thun, 20), (feel, 10)]</td>\n",
       "    </tr>\n",
       "  </tbody>\n",
       "</table>\n",
       "</div>"
      ],
      "text/plain": [
       "                           Top_Three_Words\n",
       "0  [(like, 15), (rockstar, 13), (yeah, 8)]\n",
       "1    [(ooh, 29), (havana, 21), (back, 19)]\n",
       "2        [(ooh, 26), (don, 22), (just, 9)]\n",
       "3    [(wanna, 22), (don, 19), (alive, 13)]\n",
       "4  [(thunder, 79), (thun, 20), (feel, 10)]"
      ]
     },
     "execution_count": 6,
     "metadata": {},
     "output_type": "execute_result"
    }
   ],
   "source": [
    "# Save lists into a df\n",
    "df = pd.DataFrame({'Top_Three_Words': top_three_list})\n",
    "df.head()"
   ]
  },
  {
   "cell_type": "code",
   "execution_count": 7,
   "metadata": {
    "collapsed": true
   },
   "outputs": [],
   "source": [
    "df.to_csv('./csv/top_words.csv')"
   ]
  },
  {
   "cell_type": "code",
   "execution_count": null,
   "metadata": {
    "collapsed": true
   },
   "outputs": [],
   "source": []
  }
 ],
 "metadata": {
  "kernelspec": {
   "display_name": "Python 3",
   "language": "python",
   "name": "python3"
  },
  "language_info": {
   "codemirror_mode": {
    "name": "ipython",
    "version": 3
   },
   "file_extension": ".py",
   "mimetype": "text/x-python",
   "name": "python",
   "nbconvert_exporter": "python",
   "pygments_lexer": "ipython3",
   "version": "3.6.0"
  }
 },
 "nbformat": 4,
 "nbformat_minor": 2
}
